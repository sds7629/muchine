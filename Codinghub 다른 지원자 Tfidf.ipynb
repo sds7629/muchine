{
 "cells": [
  {
   "cell_type": "markdown",
   "metadata": {},
   "source": [
    "# Text Mining 예시"
   ]
  },
  {
   "cell_type": "code",
   "execution_count": 2,
   "metadata": {},
   "outputs": [
    {
     "ename": "ImproperlyConfigured",
     "evalue": "Requested setting INSTALLED_APPS, but settings are not configured. You must either define the environment variable DJANGO_SETTINGS_MODULE or call settings.configure() before accessing settings.",
     "output_type": "error",
     "traceback": [
      "\u001b[0;31m---------------------------------------------------------------------------\u001b[0m",
      "\u001b[0;31mImproperlyConfigured\u001b[0m                      Traceback (most recent call last)",
      "\u001b[1;32mUntitled-1.ipynb Cell 2\u001b[0m line \u001b[0;36m7\n\u001b[1;32m      <a href='vscode-notebook-cell:Untitled-1.ipynb?jupyter-notebook#W3sdW50aXRsZWQ%3D?line=4'>5</a>\u001b[0m \u001b[39mfrom\u001b[39;00m \u001b[39msklearn\u001b[39;00m\u001b[39m.\u001b[39;00m\u001b[39mmetrics\u001b[39;00m\u001b[39m.\u001b[39;00m\u001b[39mpairwise\u001b[39;00m \u001b[39mimport\u001b[39;00m cosine_similarity\n\u001b[1;32m      <a href='vscode-notebook-cell:Untitled-1.ipynb?jupyter-notebook#W3sdW50aXRsZWQ%3D?line=5'>6</a>\u001b[0m \u001b[39mfrom\u001b[39;00m \u001b[39mcollections\u001b[39;00m \u001b[39mimport\u001b[39;00m Counter\n\u001b[0;32m----> <a href='vscode-notebook-cell:Untitled-1.ipynb?jupyter-notebook#W3sdW50aXRsZWQ%3D?line=6'>7</a>\u001b[0m \u001b[39mfrom\u001b[39;00m \u001b[39mboard\u001b[39;00m\u001b[39m.\u001b[39;00m\u001b[39mmodels\u001b[39;00m \u001b[39mimport\u001b[39;00m Board\n\u001b[1;32m      <a href='vscode-notebook-cell:Untitled-1.ipynb?jupyter-notebook#W3sdW50aXRsZWQ%3D?line=8'>9</a>\u001b[0m all_posts \u001b[39m=\u001b[39m Board\u001b[39m.\u001b[39mobjects\u001b[39m.\u001b[39mall()\n\u001b[1;32m     <a href='vscode-notebook-cell:Untitled-1.ipynb?jupyter-notebook#W3sdW50aXRsZWQ%3D?line=9'>10</a>\u001b[0m all_posts_content \u001b[39m=\u001b[39m [post\u001b[39m.\u001b[39mcontent \u001b[39mfor\u001b[39;00m post \u001b[39min\u001b[39;00m all_posts]\n",
      "File \u001b[0;32m~/Desktop/TextMining/board/models.py:5\u001b[0m\n\u001b[1;32m      1\u001b[0m \u001b[39mfrom\u001b[39;00m \u001b[39mdjango\u001b[39;00m\u001b[39m.\u001b[39;00m\u001b[39mdb\u001b[39;00m \u001b[39mimport\u001b[39;00m models\n\u001b[1;32m      4\u001b[0m \u001b[39m# Create your models here.\u001b[39;00m\n\u001b[0;32m----> 5\u001b[0m \u001b[39mclass\u001b[39;49;00m \u001b[39mBoard\u001b[39;49;00m(models\u001b[39m.\u001b[39;49mModel):\n\u001b[1;32m      6\u001b[0m     title \u001b[39m=\u001b[39;49m models\u001b[39m.\u001b[39;49mCharField(max_length\u001b[39m=\u001b[39;49m\u001b[39m30\u001b[39;49m)\n\u001b[1;32m      7\u001b[0m     content \u001b[39m=\u001b[39;49m models\u001b[39m.\u001b[39;49mTextField()\n",
      "File \u001b[0;32m~/Desktop/TextMining/.venv/lib/python3.12/site-packages/django/db/models/base.py:129\u001b[0m, in \u001b[0;36mModelBase.__new__\u001b[0;34m(cls, name, bases, attrs, **kwargs)\u001b[0m\n\u001b[1;32m    126\u001b[0m app_label \u001b[39m=\u001b[39m \u001b[39mNone\u001b[39;00m\n\u001b[1;32m    128\u001b[0m \u001b[39m# Look for an application configuration to attach the model to.\u001b[39;00m\n\u001b[0;32m--> 129\u001b[0m app_config \u001b[39m=\u001b[39m apps\u001b[39m.\u001b[39;49mget_containing_app_config(module)\n\u001b[1;32m    131\u001b[0m \u001b[39mif\u001b[39;00m \u001b[39mgetattr\u001b[39m(meta, \u001b[39m\"\u001b[39m\u001b[39mapp_label\u001b[39m\u001b[39m\"\u001b[39m, \u001b[39mNone\u001b[39;00m) \u001b[39mis\u001b[39;00m \u001b[39mNone\u001b[39;00m:\n\u001b[1;32m    132\u001b[0m     \u001b[39mif\u001b[39;00m app_config \u001b[39mis\u001b[39;00m \u001b[39mNone\u001b[39;00m:\n",
      "File \u001b[0;32m~/Desktop/TextMining/.venv/lib/python3.12/site-packages/django/apps/registry.py:260\u001b[0m, in \u001b[0;36mApps.get_containing_app_config\u001b[0;34m(self, object_name)\u001b[0m\n\u001b[1;32m    251\u001b[0m \u001b[39mdef\u001b[39;00m \u001b[39mget_containing_app_config\u001b[39m(\u001b[39mself\u001b[39m, object_name):\n\u001b[1;32m    252\u001b[0m \u001b[39m    \u001b[39m\u001b[39m\"\"\"\u001b[39;00m\n\u001b[1;32m    253\u001b[0m \u001b[39m    Look for an app config containing a given object.\u001b[39;00m\n\u001b[1;32m    254\u001b[0m \n\u001b[0;32m   (...)\u001b[0m\n\u001b[1;32m    258\u001b[0m \u001b[39m    Return None if the object isn't in any registered app config.\u001b[39;00m\n\u001b[1;32m    259\u001b[0m \u001b[39m    \"\"\"\u001b[39;00m\n\u001b[0;32m--> 260\u001b[0m     \u001b[39mself\u001b[39;49m\u001b[39m.\u001b[39;49mcheck_apps_ready()\n\u001b[1;32m    261\u001b[0m     candidates \u001b[39m=\u001b[39m []\n\u001b[1;32m    262\u001b[0m     \u001b[39mfor\u001b[39;00m app_config \u001b[39min\u001b[39;00m \u001b[39mself\u001b[39m\u001b[39m.\u001b[39mapp_configs\u001b[39m.\u001b[39mvalues():\n",
      "File \u001b[0;32m~/Desktop/TextMining/.venv/lib/python3.12/site-packages/django/apps/registry.py:137\u001b[0m, in \u001b[0;36mApps.check_apps_ready\u001b[0;34m(self)\u001b[0m\n\u001b[1;32m    132\u001b[0m \u001b[39mfrom\u001b[39;00m \u001b[39mdjango\u001b[39;00m\u001b[39m.\u001b[39;00m\u001b[39mconf\u001b[39;00m \u001b[39mimport\u001b[39;00m settings\n\u001b[1;32m    134\u001b[0m \u001b[39m# If \"not ready\" is due to unconfigured settings, accessing\u001b[39;00m\n\u001b[1;32m    135\u001b[0m \u001b[39m# INSTALLED_APPS raises a more helpful ImproperlyConfigured\u001b[39;00m\n\u001b[1;32m    136\u001b[0m \u001b[39m# exception.\u001b[39;00m\n\u001b[0;32m--> 137\u001b[0m settings\u001b[39m.\u001b[39;49mINSTALLED_APPS\n\u001b[1;32m    138\u001b[0m \u001b[39mraise\u001b[39;00m AppRegistryNotReady(\u001b[39m\"\u001b[39m\u001b[39mApps aren\u001b[39m\u001b[39m'\u001b[39m\u001b[39mt loaded yet.\u001b[39m\u001b[39m\"\u001b[39m)\n",
      "File \u001b[0;32m~/Desktop/TextMining/.venv/lib/python3.12/site-packages/django/conf/__init__.py:89\u001b[0m, in \u001b[0;36mLazySettings.__getattr__\u001b[0;34m(self, name)\u001b[0m\n\u001b[1;32m     87\u001b[0m \u001b[39m\u001b[39m\u001b[39m\"\"\"Return the value of a setting and cache it in self.__dict__.\"\"\"\u001b[39;00m\n\u001b[1;32m     88\u001b[0m \u001b[39mif\u001b[39;00m (_wrapped \u001b[39m:=\u001b[39m \u001b[39mself\u001b[39m\u001b[39m.\u001b[39m_wrapped) \u001b[39mis\u001b[39;00m empty:\n\u001b[0;32m---> 89\u001b[0m     \u001b[39mself\u001b[39;49m\u001b[39m.\u001b[39;49m_setup(name)\n\u001b[1;32m     90\u001b[0m     _wrapped \u001b[39m=\u001b[39m \u001b[39mself\u001b[39m\u001b[39m.\u001b[39m_wrapped\n\u001b[1;32m     91\u001b[0m val \u001b[39m=\u001b[39m \u001b[39mgetattr\u001b[39m(_wrapped, name)\n",
      "File \u001b[0;32m~/Desktop/TextMining/.venv/lib/python3.12/site-packages/django/conf/__init__.py:69\u001b[0m, in \u001b[0;36mLazySettings._setup\u001b[0;34m(self, name)\u001b[0m\n\u001b[1;32m     67\u001b[0m \u001b[39mif\u001b[39;00m \u001b[39mnot\u001b[39;00m settings_module:\n\u001b[1;32m     68\u001b[0m     desc \u001b[39m=\u001b[39m (\u001b[39m\"\u001b[39m\u001b[39msetting \u001b[39m\u001b[39m%s\u001b[39;00m\u001b[39m\"\u001b[39m \u001b[39m%\u001b[39m name) \u001b[39mif\u001b[39;00m name \u001b[39melse\u001b[39;00m \u001b[39m\"\u001b[39m\u001b[39msettings\u001b[39m\u001b[39m\"\u001b[39m\n\u001b[0;32m---> 69\u001b[0m     \u001b[39mraise\u001b[39;00m ImproperlyConfigured(\n\u001b[1;32m     70\u001b[0m         \u001b[39m\"\u001b[39m\u001b[39mRequested \u001b[39m\u001b[39m%s\u001b[39;00m\u001b[39m, but settings are not configured. \u001b[39m\u001b[39m\"\u001b[39m\n\u001b[1;32m     71\u001b[0m         \u001b[39m\"\u001b[39m\u001b[39mYou must either define the environment variable \u001b[39m\u001b[39m%s\u001b[39;00m\u001b[39m \u001b[39m\u001b[39m\"\u001b[39m\n\u001b[1;32m     72\u001b[0m         \u001b[39m\"\u001b[39m\u001b[39mor call settings.configure() before accessing settings.\u001b[39m\u001b[39m\"\u001b[39m\n\u001b[1;32m     73\u001b[0m         \u001b[39m%\u001b[39m (desc, ENVIRONMENT_VARIABLE)\n\u001b[1;32m     74\u001b[0m     )\n\u001b[1;32m     76\u001b[0m \u001b[39mself\u001b[39m\u001b[39m.\u001b[39m_wrapped \u001b[39m=\u001b[39m Settings(settings_module)\n",
      "\u001b[0;31mImproperlyConfigured\u001b[0m: Requested setting INSTALLED_APPS, but settings are not configured. You must either define the environment variable DJANGO_SETTINGS_MODULE or call settings.configure() before accessing settings."
     ]
    }
   ],
   "source": [
    "import pandas as pd\n",
    "import os\n",
    "import django\n",
    "from sklearn.feature_extraction.text import TfidfVectorizer\n",
    "from sklearn.metrics.pairwise import cosine_similarity\n",
    "from collections import Counter\n",
    "from board.models import Board\n",
    "\n",
    "all_posts = Board.objects.all()\n",
    "all_posts_content = [post.content for post in all_posts]\n",
    "\n",
    "# 모든 게시물의 단어 빈도 계산하는 로직\n",
    "all_words = [word for content in all_posts_content for word in content.split()]\n",
    "word_freq = Counter(all_words)\n",
    "\n",
    "# 전체 게시물 수\n",
    "total_documents = len(all_posts_content)\n",
    "all_posts_content = pd.DataFrame([post.content for post in all_posts], index = [post.id for post in all_posts], columns= [\"Content\"])\n",
    "\n",
    "# TF-IDF 벡터화\n",
    "vectorizer = TfidfVectorizer(max_df = 0.6) ## 60퍼센트 이상 나온 단어는 무시해\n",
    "matrix = vectorizer.fit_transform(all_posts_content[\"Content\"]) ## fit은 데이터를 학습시키는 메서드 transform은 학습시킨 것을 적용하는 메서드\n",
    "\n",
    "# 단어와 인덱스를 매핑\n",
    "feature_names = vectorizer.get_feature_names_out(matrix)\n",
    "word_index_mapping = {word: index for index, word in enumerate(feature_names)}\n",
    "\n",
    "# 40퍼 이하 빈도 단어 찾기\n",
    "low_freq_words = [word for word, freq in word_freq.items() if (freq / total_documents) <= 0.4]\n",
    "\n",
    "# 필터링된 단어로만 이루어진 문서 만들기\n",
    "relevant_word_indices = [word_index_mapping[word] for word in low_freq_words if word in word_index_mapping]\n",
    "\n",
    "# 게시물 간의 유사도 계산\n",
    "cosine_similarities = cosine_similarity(matrix, matrix)\n",
    "\n",
    "# 주어진 포스트와 다른 포스트의 연관성 평가\n",
    "related_posts_index = cosine_similarities[31].argsort()[::-1][1:6]\n",
    "\n",
    "related_posts = Board.objects.filter(id__in = related_posts_index)\n",
    "\n",
    "for post in related_posts:\n",
    "    print(f\" - {post.title}: {post.content}\")\n",
    "\n",
    "# 각 문서의 ID, 단어들, 유사도 출력\n",
    "related_posts = []\n",
    "for i, post in enumerate(all_posts):\n",
    "    words = [word for word in post.content.split()]\n",
    "    similarity = cosine_similarities[1][i]\n",
    "    if similarity > 0:\n",
    "        related_posts.append(post.id)\n",
    "        print(f\"Post ID: {post.id}\")\n",
    "        print(f\"Document {i} Words: {words}\")\n",
    "        print(f\"Similarity with Query Document: {similarity}\")\n",
    "related_posts\n",
    "\n",
    "def find_related_posts(post_id):\n",
    "    posts = Board.objects.all()\n",
    "    all_posts_content = [post.content for post in all_posts]\n",
    "\n",
    "    related_posts = []\n",
    "    return related_posts\n",
    "\n",
    "find_related_posts(1)"
   ]
  }
 ],
 "metadata": {
  "kernelspec": {
   "display_name": ".venv",
   "language": "python",
   "name": "python3"
  },
  "language_info": {
   "codemirror_mode": {
    "name": "ipython",
    "version": 3
   },
   "file_extension": ".py",
   "mimetype": "text/x-python",
   "name": "python",
   "nbconvert_exporter": "python",
   "pygments_lexer": "ipython3",
   "version": "3.12.0"
  }
 },
 "nbformat": 4,
 "nbformat_minor": 2
}
